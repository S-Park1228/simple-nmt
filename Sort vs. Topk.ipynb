{
 "cells": [
  {
   "cell_type": "markdown",
   "metadata": {},
   "source": [
    "Tensor.sort()[:topk] is faster than Tensor.topk() on cuda??\n",
    "- It might not be true by torch version and tensor shape.\n",
    "See the following link for more information.\n",
    "- https://github.com/pytorch/pytorch/issues/22812"
   ]
  },
  {
   "cell_type": "code",
   "execution_count": 1,
   "metadata": {
    "colab": {
     "base_uri": "https://localhost:8080/"
    },
    "executionInfo": {
     "elapsed": 5878,
     "status": "ok",
     "timestamp": 1686629346886,
     "user": {
      "displayName": "Sungjoon Park",
      "userId": "16159399891748041124"
     },
     "user_tz": -540
    },
    "id": "4F_S0xcB8Mo0",
    "outputId": "ac3afed9-295b-40d0-9006-84ea309bafcb"
   },
   "outputs": [
    {
     "name": "stdout",
     "output_type": "stream",
     "text": [
      "0.06446953900001517\n",
      "0.2397094920000029\n",
      "0.035853356000018266\n",
      "0.1373766770000202\n"
     ]
    }
   ],
   "source": [
    "import time\n",
    "import torch\n",
    "\n",
    "data = torch.rand(2000000, dtype=torch.float32, device=torch.device('cuda:0'))\n",
    "num_topk = 1000\n",
    "\n",
    "def topk1():\n",
    "    return data.topk(num_topk, sorted=False)\n",
    "\n",
    "def topk2():\n",
    "    sort, idx = data.sort(descending=True)\n",
    "    return sort[:num_topk], idx[:num_topk]\n",
    "\n",
    "def benchmark(f, iter, warmup):\n",
    "    for k in range(warmup): f()\n",
    "    start = time.perf_counter()\n",
    "    for k in range(iter): f()\n",
    "    torch.cuda.synchronize()\n",
    "    return time.perf_counter() - start\n",
    "\n",
    "print(benchmark(topk1, 100, 3))\n",
    "print(benchmark(topk2, 100, 3))\n",
    "print(benchmark(topk1, 100, 3))\n",
    "print(benchmark(topk2, 100, 3))"
   ]
  }
 ],
 "metadata": {
  "accelerator": "GPU",
  "colab": {
   "authorship_tag": "ABX9TyMGK6GoHStJXkc7oO8hwTxv",
   "gpuType": "T4",
   "provenance": []
  },
  "kernelspec": {
   "display_name": "Python 3 (ipykernel)",
   "language": "python",
   "name": "python3"
  },
  "language_info": {
   "codemirror_mode": {
    "name": "ipython",
    "version": 3
   },
   "file_extension": ".py",
   "mimetype": "text/x-python",
   "name": "python",
   "nbconvert_exporter": "python",
   "pygments_lexer": "ipython3",
   "version": "3.10.10"
  }
 },
 "nbformat": 4,
 "nbformat_minor": 1
}
